{
 "cells": [
  {
   "cell_type": "markdown",
   "id": "packed-advance",
   "metadata": {},
   "source": [
    "# FiveThirtyEight: Can You Randomly Move the Tower?\n",
    "Justin Marschall  \n",
    "2021-02-05  \n",
    "https://fivethirtyeight.com/features/can-you-randomly-move-the-tower/"
   ]
  },
  {
   "cell_type": "markdown",
   "id": "owned-morning",
   "metadata": {},
   "source": [
    "## Riddler Classic"
   ]
  },
  {
   "cell_type": "markdown",
   "id": "independent-preservation",
   "metadata": {},
   "source": [
    "From Toby Berger comes a towering challenge:\n",
    "\n",
    "Cassius the ape (a friend of Caesar’s) has gotten his hands on a Lucas’ Tower puzzle (also commonly referred to as the “Tower of Hanoi”). This particular puzzle consists of three poles and three disks, all of which start on the same pole. The three disks have different diameters — the biggest disk is at the bottom and the smallest disk is at the top. The goal is to move all three disks from one pole to any other pole, one at a time, but there’s a catch. At no point can a larger disk ever sit atop a smaller disk.\n",
    "\n",
    "For N disks, the minimum number of moves is 2<sup>N</sup>−1. (Spoiler alert! If you haven’t proven this before, give it a shot. It’s an excellent exercise in mathematical induction.)\n",
    "\n",
    "But this week, the minimum number of moves is not in question. It turns out that Cassius couldn’t care less about solving the puzzle, but he is very good at following directions and understands a larger disk can never sit atop a smaller disk. With each move, he randomly chooses one among the set of valid moves.\n",
    "\n",
    "On average, how many moves will it take for Cassius to solve this puzzle with three disks?\n",
    "\n",
    "Extra credit: On average, how many moves will it take for Cassius to solve this puzzle in the general case of N disks?"
   ]
  },
  {
   "cell_type": "markdown",
   "id": "solar-times",
   "metadata": {},
   "source": [
    "## Set Up"
   ]
  },
  {
   "cell_type": "code",
   "execution_count": 1,
   "id": "familiar-rescue",
   "metadata": {},
   "outputs": [],
   "source": [
    "import random\n",
    "import pandas as pd\n",
    "import seaborn as sns\n",
    "from matplotlib import pyplot as plt"
   ]
  },
  {
   "cell_type": "code",
   "execution_count": 2,
   "id": "qualified-shelf",
   "metadata": {},
   "outputs": [],
   "source": [
    "def move_check(a, b):\n",
    "    \"\"\"\n",
    "    function to check if a can move to b\n",
    "    \"\"\"\n",
    "    \n",
    "    if len(a) == 0:\n",
    "        return False\n",
    "    elif len(b) == 0:\n",
    "        return True\n",
    "    elif a[-1] > b[-1]:\n",
    "        return False\n",
    "    else:\n",
    "        return True"
   ]
  },
  {
   "cell_type": "code",
   "execution_count": 3,
   "id": "advanced-window",
   "metadata": {},
   "outputs": [],
   "source": [
    "def move_stack(a, b):\n",
    "    \"\"\"\n",
    "    function to move a to b\n",
    "    \"\"\"\n",
    "    \n",
    "    b.append(a.pop())"
   ]
  },
  {
   "cell_type": "code",
   "execution_count": 4,
   "id": "adequate-cooling",
   "metadata": {},
   "outputs": [],
   "source": [
    "def simulation():\n",
    "    \"\"\"\n",
    "    function to run one simulation, moving stack from col_1 to either col_2 or col_3\n",
    "    \n",
    "    the top of the stack is considered col_n[-1]\n",
    "    \"\"\"\n",
    "    \n",
    "    # initial set up\n",
    "    col_1 = [3, 2, 1]\n",
    "    col_2 = []\n",
    "    col_3 = []\n",
    "    \n",
    "    # list of possible moves\n",
    "    options = [(col_1, col_2), (col_1, col_3), (col_2, col_1), (col_2, col_3), (col_3, col_1), (col_3, col_2)]\n",
    "    \n",
    "    # move counter\n",
    "    n = 0\n",
    "    \n",
    "    # solve puzzle\n",
    "    while (len(col_2) < 3) & (len(col_3) < 3):\n",
    "        # get valid moves\n",
    "        valid_moves = [move_check(x,y) for x,y in options]\n",
    "        \n",
    "        # select random choice from valid_moves\n",
    "        random_choice = random.choice([i for i, x in enumerate(valid_moves) if x])\n",
    "        \n",
    "        # resolve choice\n",
    "        if random_choice == 0:\n",
    "            move_stack(col_1, col_2)\n",
    "        elif random_choice == 1:\n",
    "            move_stack(col_1, col_3)\n",
    "        elif random_choice == 2:\n",
    "            move_stack(col_2, col_1)\n",
    "        elif random_choice == 3:\n",
    "            move_stack(col_2, col_3)\n",
    "        elif random_choice == 4:\n",
    "            move_stack(col_3, col_1)\n",
    "        elif random_choice == 5:\n",
    "            move_stack(col_3, col_2)\n",
    "        else:\n",
    "            raise ValueError('random_choice is out of bounds')\n",
    "        \n",
    "        # update count\n",
    "        n += 1\n",
    "    \n",
    "    return n"
   ]
  },
  {
   "cell_type": "markdown",
   "id": "documentary-missile",
   "metadata": {},
   "source": [
    "## Run Simulation "
   ]
  },
  {
   "cell_type": "code",
   "execution_count": 5,
   "id": "discrete-hygiene",
   "metadata": {},
   "outputs": [],
   "source": [
    "random.seed(12345)\n",
    "sim = [simulation() for i in range(1000000)]"
   ]
  },
  {
   "cell_type": "code",
   "execution_count": 6,
   "id": "straight-burner",
   "metadata": {},
   "outputs": [
    {
     "data": {
      "text/plain": [
       "count    1000000.000000\n",
       "mean          70.722741\n",
       "std           53.642194\n",
       "min            7.000000\n",
       "25%           33.000000\n",
       "50%           56.000000\n",
       "75%           92.000000\n",
       "max          813.000000\n",
       "dtype: float64"
      ]
     },
     "execution_count": 6,
     "metadata": {},
     "output_type": "execute_result"
    }
   ],
   "source": [
    "pd.Series(sim).describe()"
   ]
  },
  {
   "cell_type": "code",
   "execution_count": 7,
   "id": "elegant-coverage",
   "metadata": {},
   "outputs": [
    {
     "data": {
      "text/plain": [
       "<AxesSubplot:ylabel='Density'>"
      ]
     },
     "execution_count": 7,
     "metadata": {},
     "output_type": "execute_result"
    },
    {
     "data": {
      "image/png": "[encoded data removed]",
      "text/plain": [
       "<Figure size 1152x648 with 1 Axes>"
      ]
     },
     "metadata": {
      "needs_background": "light"
     },
     "output_type": "display_data"
    }
   ],
   "source": [
    "plt.figure(figsize = (16, 9))\n",
    "sns.kdeplot(pd.Series(sim), fill = 'blue')"
   ]
  }
 ],
 "metadata": {
  "kernelspec": {
   "display_name": "Python 3",
   "language": "python",
   "name": "python3"
  },
  "language_info": {
   "codemirror_mode": {
    "name": "ipython",
    "version": 3
   },
   "file_extension": ".py",
   "mimetype": "text/x-python",
   "name": "python",
   "nbconvert_exporter": "python",
   "pygments_lexer": "ipython3",
   "version": "3.8.5"
  }
 },
 "nbformat": 4,
 "nbformat_minor": 5
}
